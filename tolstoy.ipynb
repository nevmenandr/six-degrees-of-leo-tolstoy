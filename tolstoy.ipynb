{
 "cells": [
  {
   "cell_type": "code",
   "execution_count": 1,
   "metadata": {
    "collapsed": true
   },
   "outputs": [],
   "source": [
    "import codecs\n",
    "import networkx as nx"
   ]
  },
  {
   "cell_type": "code",
   "execution_count": 2,
   "metadata": {
    "collapsed": true
   },
   "outputs": [],
   "source": [
    "G = nx.read_gexf('graph.xml')"
   ]
  },
  {
   "cell_type": "code",
   "execution_count": 3,
   "metadata": {
    "collapsed": false
   },
   "outputs": [
    {
     "data": {
      "text/plain": [
       "16256"
      ]
     },
     "execution_count": 3,
     "metadata": {},
     "output_type": "execute_result"
    }
   ],
   "source": [
    "G.number_of_nodes()"
   ]
  },
  {
   "cell_type": "code",
   "execution_count": 4,
   "metadata": {
    "collapsed": false
   },
   "outputs": [
    {
     "data": {
      "text/plain": [
       "364458"
      ]
     },
     "execution_count": 4,
     "metadata": {},
     "output_type": "execute_result"
    }
   ],
   "source": [
    "G.number_of_edges()"
   ]
  },
  {
   "cell_type": "code",
   "execution_count": 13,
   "metadata": {
    "collapsed": true
   },
   "outputs": [],
   "source": [
    "deg = nx.degree_centrality(G)\n",
    "labels = nx.get_node_attributes(G,'label')"
   ]
  },
  {
   "cell_type": "code",
   "execution_count": 16,
   "metadata": {
    "collapsed": false
   },
   "outputs": [
    {
     "name": "stdout",
     "output_type": "stream",
     "text": [
      "1. Толстой Лев Николаевич\t0.6\n",
      "2. Толстая Софья Андреевна, рожд. Берс\t0.262\n",
      "3. Чертков Владимир Григорьевич\t0.25\n",
      "4. Сухотина Татьяна Львовна, рожд. Толстая\t0.241\n",
      "5. Москва\t0.21\n",
      "6. Оболенская Мария Львовна, рожд. Толстая\t0.192\n",
      "7. Бирюков Павел Иванович\t0.162\n",
      "8. Ясная Поляна\t0.161\n",
      "9. Толстой Сергей Николаевич\t0.156\n",
      "10. Толстой Сергей Львович\t0.153\n",
      "11. Толстой Лев Львович\t0.14\n",
      "12. Маковицкий Душан Петрович\t0.134\n",
      "13. Петербург\t0.126\n",
      "14. Россия (Русь)\t0.124\n",
      "15. Толстой Илья Львович\t0.118\n",
      "16. «Посредник», издательство\t0.117\n",
      "17. Толстая Мария Николаевна (сестра Толстого)\t0.114\n",
      "18. Толстая Александра Львовна\t0.112\n",
      "19. Толстой Андрей Львович\t0.111\n",
      "20. Горбунов-Посадов Иван Иванович\t0.109\n",
      "21. Кузминская Татьяна Андреевна, рожд. Берс\t0.109\n",
      "22. Тула\t0.106\n",
      "23. Страхов Николай Николаевич\t0.102\n",
      "24. Гусев Николай Николаевич\t0.098\n",
      "25. Толстая Александра Андреевна\t0.095\n",
      "26. Тургенев Иван Сергеевич\t0.092\n",
      "27. Фет Афанасий Афанасьевич (Шеншин)\t0.09\n",
      "28. Буланже Павел Александрович\t0.089\n",
      "29. Черткова Анна Константиновна, рожд. Дитерихс\t0.088\n",
      "30. Пушкин Александр Сергеевич\t0.083\n",
      "31. Толстой Михаил Львович\t0.082\n",
      "32. Шмидт Мария Александровна\t0.082\n",
      "33. Ге Николай Николаевич (сын художника)\t0.077\n",
      "34. Попов Евгений Иванович\t0.075\n",
      "35. Ергольская Татьяна Александровна\t0.075\n",
      "36. Ге Николай Николаевич, художник\t0.073\n",
      "37. Толстой Николай Николаевич\t0.072\n",
      "38. Стасов Владимир Васильевич\t0.07\n",
      "39. Дунаев Александр Никифорович\t0.07\n",
      "40. Наполеон I Бонапарт\t0.067\n",
      "41. Давыдов Николай Васильевич\t0.066\n",
      "42. Кузминский Александр Михайлович\t0.066\n",
      "43. Сухотин Михаил Сергеевич\t0.064\n",
      "44. Англия\t0.063\n",
      "45. Трегубов Иван Михайлович\t0.061\n",
      "46. Александр I Павлович\t0.061\n",
      "47. Моод Эльмер (Алексей Францевич)\t0.06\n",
      "48. Николай I Павлович\t0.06\n",
      "49. Хилков Дмитрий Александрович\t0.059\n",
      "50. Толстая Ольга Константиновна, рожд. Дитерихс\t0.059\n"
     ]
    }
   ],
   "source": [
    "i = 0\n",
    "for nodeid in sorted(deg, key=deg.get, reverse=True):\n",
    "    i += 1\n",
    "    if i == 51:\n",
    "        break\n",
    "    print (str(i) + '. ' + labels[nodeid] + '\\t' + str(round(deg[nodeid], 3)))"
   ]
  },
  {
   "cell_type": "code",
   "execution_count": 17,
   "metadata": {
    "collapsed": false
   },
   "outputs": [
    {
     "data": {
      "text/plain": [
       "44.839812992125985"
      ]
     },
     "execution_count": 17,
     "metadata": {},
     "output_type": "execute_result"
    }
   ],
   "source": [
    "#nx.average_clustering(G)\n",
    "sum(G.degree().values())/float(len(G))"
   ]
  },
  {
   "cell_type": "code",
   "execution_count": 19,
   "metadata": {
    "collapsed": true
   },
   "outputs": [],
   "source": [
    "G1 = G.to_undirected()"
   ]
  },
  {
   "cell_type": "code",
   "execution_count": 20,
   "metadata": {
    "collapsed": false
   },
   "outputs": [
    {
     "data": {
      "text/plain": [
       "0.7448133141221301"
      ]
     },
     "execution_count": 20,
     "metadata": {},
     "output_type": "execute_result"
    }
   ],
   "source": [
    "nx.average_clustering(G1)"
   ]
  },
  {
   "cell_type": "code",
   "execution_count": 21,
   "metadata": {
    "collapsed": true
   },
   "outputs": [],
   "source": [
    "nx.write_gexf(G1, 'data.gexf')"
   ]
  },
  {
   "cell_type": "markdown",
   "metadata": {},
   "source": [
    "### Неориентированный граф"
   ]
  },
  {
   "cell_type": "code",
   "execution_count": 2,
   "metadata": {
    "collapsed": true
   },
   "outputs": [],
   "source": [
    "G = nx.read_gexf('data.gexf')"
   ]
  },
  {
   "cell_type": "code",
   "execution_count": 3,
   "metadata": {
    "collapsed": true
   },
   "outputs": [],
   "source": [
    "labels = nx.get_node_attributes(G,'label')"
   ]
  },
  {
   "cell_type": "code",
   "execution_count": 4,
   "metadata": {
    "collapsed": false
   },
   "outputs": [
    {
     "name": "stdout",
     "output_type": "stream",
     "text": [
      "141\n"
     ]
    }
   ],
   "source": [
    "tolstoy_family = []\n",
    "for nodeid in G:\n",
    "    if u'Толстой' in labels[nodeid] or u'Толстая' in labels[nodeid] or u'Толстые' in labels[nodeid]:\n",
    "        tolstoy_family.append((nodeid, labels[nodeid]))\n",
    "print (len(tolstoy_family))"
   ]
  },
  {
   "cell_type": "code",
   "execution_count": 8,
   "metadata": {
    "collapsed": false
   },
   "outputs": [],
   "source": [
    "f = codecs.open('tolstoy_family.csv', 'w', 'utf-8')\n",
    "for pr in tolstoy_family:\n",
    "    f.write(pr[1] + '\\n')\n",
    "f.close()"
   ]
  },
  {
   "cell_type": "code",
   "execution_count": 14,
   "metadata": {
    "collapsed": false,
    "scrolled": false
   },
   "outputs": [],
   "source": [
    "#i = 0\n",
    "#for nodeid in sorted(G):\n",
    "#    i += 1\n",
    "#    if u' губ.' in labels[nodeid] or u'Толстой' in labels[nodeid] or u'Толстая' in labels[nodeid] or u'журнал' in labels[nodeid] or u'газета' in labels[nodeid] or u'«' in labels[nodeid] or u' река' in labels[nodeid] or u' гора' in labels[nodeid] or u'(Швейцария)' in labels[nodeid] or u'(Италия)' in labels[nodeid] or u'(Франция)' in labels[nodeid]:\n",
    "#        continue\n",
    "#    if 16001 <= i < 17001:\n",
    "#        print labels[nodeid]"
   ]
  },
  {
   "cell_type": "code",
   "execution_count": 10,
   "metadata": {
    "collapsed": false
   },
   "outputs": [
    {
     "name": "stdout",
     "output_type": "stream",
     "text": [
      "721\n"
     ]
    }
   ],
   "source": [
    "places_gub = []\n",
    "for nodeid in G:\n",
    "    if u' губ.' in labels[nodeid]:\n",
    "        places_gub.append((nodeid, labels[nodeid]))\n",
    "print (len(places_gub))"
   ]
  },
  {
   "cell_type": "code",
   "execution_count": 11,
   "metadata": {
    "collapsed": true
   },
   "outputs": [],
   "source": [
    "fg = codecs.open('places_gub.csv', 'w', 'utf-8')\n",
    "for place in places_gub:\n",
    "    fg.write(place[1] + '\\n')\n",
    "fg.close()"
   ]
  },
  {
   "cell_type": "code",
   "execution_count": 19,
   "metadata": {
    "collapsed": false
   },
   "outputs": [
    {
     "name": "stdout",
     "output_type": "stream",
     "text": [
      "171\n"
     ]
    }
   ],
   "source": [
    "press = []\n",
    "for nodeid in G:\n",
    "    if u'журнал' in labels[nodeid] or u'газета' in labels[nodeid]:\n",
    "        press.append((nodeid, labels[nodeid]))\n",
    "print (len(press))\n",
    "\n",
    "fg = codecs.open('press.csv', 'w', 'utf-8')\n",
    "for pr in press:\n",
    "    fg.write(pr[1] + '\\n')\n",
    "fg.close()"
   ]
  },
  {
   "cell_type": "code",
   "execution_count": 23,
   "metadata": {
    "collapsed": true
   },
   "outputs": [],
   "source": [
    "places = []\n",
    "f = codecs.open('places.csv', 'r', 'utf-8')\n",
    "for line in f:\n",
    "    place = line.replace('\\n', '')\n",
    "    places.append(place)\n",
    "f.close()\n",
    "\n",
    "\n",
    "toponyms = []\n",
    "for nodeid in G:\n",
    "    if u' река' in labels[nodeid] or u' гора' in labels[nodeid] or u'(Швейцария)' in labels[nodeid] or u'(Италия)' in labels[nodeid] or u'(Франция)' in labels[nodeid]:\n",
    "        if labels[nodeid] not in places:\n",
    "            toponyms.append((nodeid, labels[nodeid]))\n",
    "#print (len(press))\n",
    "\n",
    "fg = codecs.open('places.csv', 'a', 'utf-8')\n",
    "for pr in toponyms:\n",
    "    fg.write(pr[1] + '\\n')\n",
    "fg.close()"
   ]
  },
  {
   "cell_type": "code",
   "execution_count": null,
   "metadata": {
    "collapsed": true
   },
   "outputs": [],
   "source": []
  }
 ],
 "metadata": {
  "kernelspec": {
   "display_name": "Python 2",
   "language": "python",
   "name": "python2"
  },
  "language_info": {
   "codemirror_mode": {
    "name": "ipython",
    "version": 2
   },
   "file_extension": ".py",
   "mimetype": "text/x-python",
   "name": "python",
   "nbconvert_exporter": "python",
   "pygments_lexer": "ipython2",
   "version": "2.7.12+"
  }
 },
 "nbformat": 4,
 "nbformat_minor": 1
}
