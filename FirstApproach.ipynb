{
 "cells": [
  {
   "cell_type": "code",
   "execution_count": 1,
   "metadata": {
    "collapsed": true
   },
   "outputs": [],
   "source": [
    "%matplotlib inline\n",
    "\n",
    "import networkx as nx\n",
    "import matplotlib.pyplot as plt"
   ]
  },
  {
   "cell_type": "code",
   "execution_count": 2,
   "metadata": {
    "collapsed": true
   },
   "outputs": [],
   "source": [
    "G = nx.read_gexf('G_letters_1908.gexf')"
   ]
  },
  {
   "cell_type": "code",
   "execution_count": 6,
   "metadata": {
    "collapsed": true
   },
   "outputs": [],
   "source": [
    "labels = nx.get_node_attributes(G,'label')"
   ]
  },
  {
   "cell_type": "code",
   "execution_count": 7,
   "metadata": {
    "collapsed": false
   },
   "outputs": [
    {
     "name": "stdout",
     "output_type": "stream",
     "text": [
      "Толстой Лев Николаевич Ясная Поляна 17.0\n",
      "Толстая Софья Андреевна, рожд. Берс Сухотин Михаил Сергеевич 6.0\n",
      "Толстая Софья Андреевна, рожд. Берс Ясная Поляна 6.0\n",
      "Толстая Софья Андреевна, рожд. Берс Сухотина Татьяна Михайловна 6.0\n",
      "Сухотина Татьяна Михайловна Сухотин Михаил Сергеевич 7.0\n",
      "Кант Иммануил Эмерсон Ральф Уолдо (Emerson) 6.0\n",
      "Конфуций Лао-Цзы (Лао-тзе) 6.0\n"
     ]
    }
   ],
   "source": [
    "edges_list = G.edges(data=True)\n",
    "for edge_item in edges_list:\n",
    "    if edge_item[2]['weight'] >= 6.0:\n",
    "        print (labels[edge_item[0]], labels[edge_item[1]], edge_item[2]['weight'])"
   ]
  },
  {
   "cell_type": "code",
   "execution_count": null,
   "metadata": {
    "collapsed": true
   },
   "outputs": [],
   "source": []
  }
 ],
 "metadata": {
  "kernelspec": {
   "display_name": "Python 3",
   "language": "python",
   "name": "python3"
  },
  "language_info": {
   "codemirror_mode": {
    "name": "ipython",
    "version": 3
   },
   "file_extension": ".py",
   "mimetype": "text/x-python",
   "name": "python",
   "nbconvert_exporter": "python",
   "pygments_lexer": "ipython3",
   "version": "3.5.2+"
  }
 },
 "nbformat": 4,
 "nbformat_minor": 1
}
